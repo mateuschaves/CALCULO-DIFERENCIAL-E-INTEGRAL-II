{
 "cells": [
  {
   "cell_type": "markdown",
   "metadata": {},
   "source": [
    "$f(x, y) = 2x^3 + 2xy^2 + 2y^2; p_0(2, 1); u = (2, -5).$"
   ]
  },
  {
   "cell_type": "markdown",
   "metadata": {},
   "source": [
    "$f_x(x, y) = 6x^2 + 2y^2$"
   ]
  },
  {
   "cell_type": "markdown",
   "metadata": {},
   "source": [
    "$f_y(x, y) = 4yx + 4y$"
   ]
  },
  {
   "cell_type": "markdown",
   "metadata": {},
   "source": [
    "$\\nabla f(x, y) = (6x^2 + 2y^2, 4yx + 4y)$"
   ]
  },
  {
   "cell_type": "markdown",
   "metadata": {},
   "source": [
    "$\\nabla f(2, 1) = (6(2)^2 + 2(1)^2, 4(1)(2) + 4(1))$"
   ]
  },
  {
   "cell_type": "markdown",
   "metadata": {},
   "source": [
    "$\\nabla f(2, 1) = (26, 12)$"
   ]
  },
  {
   "cell_type": "markdown",
   "metadata": {},
   "source": [
    "$||u|| = \\sqrt{4 + 25} = \\sqrt{29}$"
   ]
  },
  {
   "cell_type": "markdown",
   "metadata": {},
   "source": [
    "$v = (\\frac{2}{\\sqrt{29}}, - \\frac{-5}{\\sqrt{29}})$"
   ]
  },
  {
   "cell_type": "markdown",
   "metadata": {},
   "source": [
    "$<v, \\nabla f(2, 1)> = 26 \\cdot \\frac{2}{\\sqrt{29}} - 12 \\cdot \\frac{5}{\\sqrt{29}}$"
   ]
  },
  {
   "cell_type": "markdown",
   "metadata": {},
   "source": [
    "$<v, \\nabla f(2, 1)> = \\frac{52}{\\sqrt{29}} - \\frac{60}{\\sqrt{29}}$"
   ]
  },
  {
   "cell_type": "markdown",
   "metadata": {},
   "source": [
    "$<v, \\nabla f(2, 1)> = - \\frac{8}{\\sqrt{29}}$"
   ]
  }
 ],
 "metadata": {
  "kernelspec": {
   "display_name": "Python 3",
   "language": "python",
   "name": "python3"
  },
  "language_info": {
   "codemirror_mode": {
    "name": "ipython",
    "version": 3
   },
   "file_extension": ".py",
   "mimetype": "text/x-python",
   "name": "python",
   "nbconvert_exporter": "python",
   "pygments_lexer": "ipython3",
   "version": "3.7.0"
  }
 },
 "nbformat": 4,
 "nbformat_minor": 2
}
