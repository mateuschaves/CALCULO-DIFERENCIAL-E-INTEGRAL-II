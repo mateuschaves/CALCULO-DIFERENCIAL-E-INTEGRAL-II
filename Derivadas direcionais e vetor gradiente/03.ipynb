{
 "cells": [
  {
   "cell_type": "markdown",
   "metadata": {},
   "source": [
    "$f(x, y, z) = 3x^2y - 2y^2z + 4xyz; p_0(1, 2, -1); u = (2, -2, 2)$"
   ]
  },
  {
   "cell_type": "markdown",
   "metadata": {},
   "source": [
    "$f_x(x, y, z) = 6xy + 4yz$"
   ]
  },
  {
   "cell_type": "markdown",
   "metadata": {},
   "source": [
    "$f_y(x, y, z) = 3x^2 - 4yz + 4xz$"
   ]
  },
  {
   "cell_type": "markdown",
   "metadata": {},
   "source": [
    "$f_z(x, y, z) = -2y^2 + 4xy$"
   ]
  },
  {
   "cell_type": "markdown",
   "metadata": {},
   "source": [
    "$\\nabla f(x, y, z) = (6xy + 4yz, 3x^2 - 4yz + 4xz, -2y^2 + 4xy)$"
   ]
  },
  {
   "cell_type": "markdown",
   "metadata": {},
   "source": [
    "$\\nabla f(x, y, z) = (6(1)(2) + 4(2)(-1), 3(1)^2 - 4(2)(-1) + 4(1)(-1), -2(2)^2 + 4(1)(2))$"
   ]
  },
  {
   "cell_type": "markdown",
   "metadata": {},
   "source": [
    "$\\nabla f(x, y, z) = (4, 7, 0)$"
   ]
  },
  {
   "cell_type": "markdown",
   "metadata": {},
   "source": [
    "$||u|| = \\sqrt{4 + 4 + 4} = \\sqrt{12}$"
   ]
  },
  {
   "cell_type": "markdown",
   "metadata": {},
   "source": [
    "$v = (\\frac{2}{\\sqrt{12}}, \\frac{-2}{\\sqrt{12}}, \\frac{2}{\\sqrt{12}})$"
   ]
  },
  {
   "cell_type": "markdown",
   "metadata": {},
   "source": [
    "$<v, \\nabla f(x, y, z)> = 4 \\cdot \\frac{2}{\\sqrt{12}} + 7 \\cdot (-\\frac{2}{\\sqrt{12}}) + 0 \\cdot \\frac{2}{\\sqrt{12}}$"
   ]
  },
  {
   "cell_type": "markdown",
   "metadata": {},
   "source": [
    "$<v, \\nabla f(x, y, z)> =  - \\frac{6}{\\sqrt{12}}$"
   ]
  }
 ],
 "metadata": {
  "kernelspec": {
   "display_name": "Python 3",
   "language": "python",
   "name": "python3"
  },
  "language_info": {
   "codemirror_mode": {
    "name": "ipython",
    "version": 3
   },
   "file_extension": ".py",
   "mimetype": "text/x-python",
   "name": "python",
   "nbconvert_exporter": "python",
   "pygments_lexer": "ipython3",
   "version": "3.7.0"
  }
 },
 "nbformat": 4,
 "nbformat_minor": 2
}
