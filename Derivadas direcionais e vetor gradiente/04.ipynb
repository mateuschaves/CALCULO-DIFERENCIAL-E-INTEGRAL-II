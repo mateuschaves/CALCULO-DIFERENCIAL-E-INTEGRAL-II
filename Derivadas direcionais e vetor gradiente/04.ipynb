{
 "cells": [
  {
   "cell_type": "markdown",
   "metadata": {},
   "source": [
    "$f(x, y) = x^3 - 3xy + ln(y) + 4xy^3; p_0(2,1); v(3, -4)$"
   ]
  },
  {
   "cell_type": "markdown",
   "metadata": {},
   "source": [
    "$f_x(x,y) = 3x^2 - 3y + 4y^3$"
   ]
  },
  {
   "cell_type": "markdown",
   "metadata": {},
   "source": [
    "$f_y(x, y) = -3x + \\frac{1}{y} + 12xy$"
   ]
  },
  {
   "cell_type": "markdown",
   "metadata": {},
   "source": [
    "$\\nabla f(x,y) = (3x^2 - 3y + 4y^3, -3x + \\frac{1}{y} + 12xy)$"
   ]
  },
  {
   "cell_type": "markdown",
   "metadata": {},
   "source": [
    "$\\nabla f(2,1) = (3(2)^2 - 3(1) + 4(1)^3, -3(2) + \\frac{1}{1} + 12(2)(1))$"
   ]
  },
  {
   "cell_type": "markdown",
   "metadata": {},
   "source": [
    "$\\nabla f(2,1) = (13, 19)$"
   ]
  },
  {
   "cell_type": "markdown",
   "metadata": {},
   "source": [
    "$||v|| = \\sqrt{9 + 16} = \\sqrt{25} = 5$"
   ]
  },
  {
   "cell_type": "markdown",
   "metadata": {},
   "source": [
    "$g = (\\frac{3}{5}, -\\frac{4}{5})$"
   ]
  },
  {
   "cell_type": "markdown",
   "metadata": {},
   "source": [
    "$<g, \\nabla f(2,1)> = 13 \\cdot \\frac{3}{5} - 19 \\cdot \\frac{4}{5}$"
   ]
  },
  {
   "cell_type": "markdown",
   "metadata": {},
   "source": [
    "$<g, \\nabla f(2,1)> = \\frac{39}{5} - \\frac{76}{5}$"
   ]
  },
  {
   "cell_type": "markdown",
   "metadata": {},
   "source": [
    "$<g, \\nabla f(2,1)> = -\\frac{37}{5}$"
   ]
  }
 ],
 "metadata": {
  "kernelspec": {
   "display_name": "Python 3",
   "language": "python",
   "name": "python3"
  },
  "language_info": {
   "codemirror_mode": {
    "name": "ipython",
    "version": 3
   },
   "file_extension": ".py",
   "mimetype": "text/x-python",
   "name": "python",
   "nbconvert_exporter": "python",
   "pygments_lexer": "ipython3",
   "version": "3.7.0"
  }
 },
 "nbformat": 4,
 "nbformat_minor": 2
}
