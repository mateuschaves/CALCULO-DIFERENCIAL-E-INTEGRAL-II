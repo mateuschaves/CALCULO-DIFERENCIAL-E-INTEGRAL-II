{
 "cells": [
  {
   "cell_type": "markdown",
   "metadata": {},
   "source": [
    "<b>Para $f(x,y) = x^2y + e^{xy}seny; p_0(1, 0),$ qual a taxa máxima de $f$em $p_0$ e o verso correspondente.</b>"
   ]
  },
  {
   "cell_type": "markdown",
   "metadata": {},
   "source": [
    "$f_x(x,y) = 2xy + ye^{xy}sen(y)$"
   ]
  },
  {
   "cell_type": "markdown",
   "metadata": {},
   "source": [
    "$f_y(x,y) = x^2 + e^{xy}cos(y) + sen(y)xe^{xy}$"
   ]
  },
  {
   "cell_type": "markdown",
   "metadata": {},
   "source": [
    "$\\nabla f(x,y) = (2xy + ye^{xy}sen(y), x^2 + e^{xy}cos(y) + sen(y)xe^{xy})$"
   ]
  },
  {
   "cell_type": "markdown",
   "metadata": {},
   "source": [
    "$\\nabla f(1, 0) = (2(1)(0) + 0\\cdot e^{1 \\cdot 0}sen(0), 1^2 + e^{1\\cdot 0}cos(0) + sen(0)\\cdot 1 \\cdot e^{1 \\cdot 0})$"
   ]
  },
  {
   "cell_type": "markdown",
   "metadata": {},
   "source": [
    "$\\nabla f(1, 0) = (0, 2)$"
   ]
  },
  {
   "cell_type": "markdown",
   "metadata": {},
   "source": [
    "Taxa máxima de variáção: $||\\nabla f(1, 0)|| = \\sqrt{2^2} = \\sqrt{4} = 2$"
   ]
  },
  {
   "cell_type": "markdown",
   "metadata": {},
   "source": [
    "Versor: $g = (0, 1)$"
   ]
  }
 ],
 "metadata": {
  "kernelspec": {
   "display_name": "Python 3",
   "language": "python",
   "name": "python3"
  },
  "language_info": {
   "codemirror_mode": {
    "name": "ipython",
    "version": 3
   },
   "file_extension": ".py",
   "mimetype": "text/x-python",
   "name": "python",
   "nbconvert_exporter": "python",
   "pygments_lexer": "ipython3",
   "version": "3.7.0"
  }
 },
 "nbformat": 4,
 "nbformat_minor": 2
}
