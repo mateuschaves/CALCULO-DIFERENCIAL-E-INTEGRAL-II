{
 "cells": [
  {
   "cell_type": "markdown",
   "metadata": {},
   "source": [
    "$\\int \\frac{x^2 + 2x - 1}{2x^3 + 3x^2 - 2x}$"
   ]
  },
  {
   "cell_type": "markdown",
   "metadata": {},
   "source": [
    "$2x^3 + 3x^2 - 2x$"
   ]
  },
  {
   "cell_type": "markdown",
   "metadata": {},
   "source": [
    "$x(2x^2 + 3x - 2)$"
   ]
  },
  {
   "cell_type": "markdown",
   "metadata": {},
   "source": [
    "$\\frac{-3\\pm \\sqrt{3^2 - 4 \\cdot 2 \\cdot (-2)}}{2\\cdot2}$"
   ]
  },
  {
   "cell_type": "markdown",
   "metadata": {},
   "source": [
    "$\\frac{-3\\pm \\sqrt{25}}{4}$"
   ]
  },
  {
   "cell_type": "markdown",
   "metadata": {},
   "source": [
    "$\\frac{-3 \\pm 5}{4}$"
   ]
  },
  {
   "cell_type": "markdown",
   "metadata": {},
   "source": [
    "$x_1 = \\frac{-3 + 5}{4} = \\frac{1}{2}$"
   ]
  },
  {
   "cell_type": "markdown",
   "metadata": {},
   "source": [
    "$x_2 = \\frac{-3 - 5}{4} = -2$"
   ]
  },
  {
   "cell_type": "markdown",
   "metadata": {},
   "source": [
    "$x(2(x - \\frac{1}{2})(x + 2))$"
   ]
  },
  {
   "cell_type": "markdown",
   "metadata": {},
   "source": [
    "$x(2x - 1)(x+2)$"
   ]
  },
  {
   "cell_type": "markdown",
   "metadata": {},
   "source": [
    "$\\frac{x^2 + 2x - 1}{x(2x - 1)(x+2)} = \\frac{A}{x} + \\frac{B}{(2x-1)} + \\frac{C}{(x+2)}$"
   ]
  },
  {
   "cell_type": "markdown",
   "metadata": {},
   "source": [
    "$ x^2 + 2x -1 = A(2x - 1)(x + 2) + Bx(x + 2) + Cx(2x - 1)$"
   ]
  },
  {
   "cell_type": "markdown",
   "metadata": {},
   "source": [
    "$x^2 + 2x - 1 = (2Ax - A)(x + 2) + Bx^2 + 2Bx + 2Cx^2 - Cx$"
   ]
  },
  {
   "cell_type": "markdown",
   "metadata": {},
   "source": [
    "$x^2 + 2x - 1 = 2Ax^2 + 4Ax - Ax - 2A + Bx^2 + 2Bx + 2Cx^2 - Cx$"
   ]
  },
  {
   "cell_type": "markdown",
   "metadata": {},
   "source": [
    "$x^2 + 2x - 1 = (2A + B + 2C)x^2 + (4A - A - C + 2B)x - 2A$"
   ]
  },
  {
   "cell_type": "markdown",
   "metadata": {},
   "source": [
    "$x^2 + 2x - 1 = (2A + B + 2C)x^2 + (3A + 2B - C)x - 2A$"
   ]
  },
  {
   "cell_type": "markdown",
   "metadata": {},
   "source": [
    "$\\begin{cases}\n",
    "2A + B + 2C = 1 \\\\\n",
    "3A + 2B - C = 2 \\\\\n",
    "-2A = -1\n",
    "\\end{cases}$"
   ]
  },
  {
   "cell_type": "markdown",
   "metadata": {},
   "source": [
    "$A = \\frac{1}{2}$"
   ]
  },
  {
   "cell_type": "markdown",
   "metadata": {},
   "source": [
    "$\\begin{cases}\n",
    "B + 2C = 0 \\\\\n",
    "2B - C = \\frac{1}{2} \\\\\n",
    "\\end{cases}$"
   ]
  },
  {
   "cell_type": "markdown",
   "metadata": {},
   "source": [
    "$B = -2C$"
   ]
  },
  {
   "cell_type": "markdown",
   "metadata": {},
   "source": [
    "$-4C - C = \\frac{1}{2}$"
   ]
  },
  {
   "cell_type": "markdown",
   "metadata": {},
   "source": [
    "$-5C = \\frac{1}{2}$"
   ]
  },
  {
   "cell_type": "markdown",
   "metadata": {},
   "source": [
    "$-C = \\frac{\\frac{1}{2}}{5}$"
   ]
  },
  {
   "cell_type": "markdown",
   "metadata": {},
   "source": [
    "$C = - \\frac{1}{10}$"
   ]
  },
  {
   "cell_type": "markdown",
   "metadata": {},
   "source": [
    "$B = -(-\\frac{2}{10})$"
   ]
  },
  {
   "cell_type": "markdown",
   "metadata": {},
   "source": [
    "$B = \\frac{1}{5}$"
   ]
  },
  {
   "cell_type": "markdown",
   "metadata": {},
   "source": [
    "$\\int \\frac{x^2 + 2x - 1}{2x^3 + 3x^2 - 2x} = \\frac{1}{2} \\cdot \\int \\frac{1}{x} + \\frac{1}{5} \\cdot \\int \\frac{1}{2x - 1} - \\frac{1}{10} \\cdot \\int \\frac{1}{(x+2)}$"
   ]
  },
  {
   "cell_type": "markdown",
   "metadata": {},
   "source": [
    "$\\int \\frac{x^2 + 2x - 1}{2x^3 + 3x^2 - 2x} = \\frac{1}{2}ln(|x|) + \\frac{1}{10}ln(|2x - 1|) - \\frac{1}{10}ln(|x + 2|) + C $"
   ]
  }
 ],
 "metadata": {
  "kernelspec": {
   "display_name": "Python 3",
   "language": "python",
   "name": "python3"
  },
  "language_info": {
   "codemirror_mode": {
    "name": "ipython",
    "version": 3
   },
   "file_extension": ".py",
   "mimetype": "text/x-python",
   "name": "python",
   "nbconvert_exporter": "python",
   "pygments_lexer": "ipython3",
   "version": "3.6.6"
  }
 },
 "nbformat": 4,
 "nbformat_minor": 2
}
