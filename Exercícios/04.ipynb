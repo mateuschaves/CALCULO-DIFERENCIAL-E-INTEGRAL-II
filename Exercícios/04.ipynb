{
 "cells": [
  {
   "cell_type": "markdown",
   "metadata": {},
   "source": [
    "$\\int \\frac{x - 2}{x^3 - 3x^2 - x + 3}dx$"
   ]
  },
  {
   "cell_type": "markdown",
   "metadata": {},
   "source": [
    "$x^3 - 3x^2 - x + 3 = x^2(x - 3) -1(x - 3)$"
   ]
  },
  {
   "cell_type": "markdown",
   "metadata": {},
   "source": [
    "$(x - 3)(x - 1)(x + 1)$"
   ]
  },
  {
   "cell_type": "markdown",
   "metadata": {},
   "source": [
    "$\\int \\frac{x - 2}{x^3 - 3x^2 - x + 3}dx = \\int \\frac{x - 2}{(x - 3)(x - 1)(x + 1)}dx$"
   ]
  },
  {
   "cell_type": "markdown",
   "metadata": {},
   "source": [
    "$ \\frac{x - 2}{(x - 3)(x - 1)(x + 1)} = \\frac{A}{(x-3)} + \\frac{B}{x - 1} + \\frac{C}{x + 1}$"
   ]
  },
  {
   "cell_type": "markdown",
   "metadata": {},
   "source": [
    "$x - 2 = A(x-1)(x+1) + B(x-3)(x+1) + C(x-3)(x-1)$"
   ]
  },
  {
   "cell_type": "markdown",
   "metadata": {},
   "source": [
    "$x = 1$"
   ]
  },
  {
   "cell_type": "markdown",
   "metadata": {},
   "source": [
    "$1 - 2 = A(1-1)(1+1) + B(1-3)(1+1) + C(1-3)(1-1)$"
   ]
  },
  {
   "cell_type": "markdown",
   "metadata": {},
   "source": [
    "$-1 = B(-2)(2)$"
   ]
  },
  {
   "cell_type": "markdown",
   "metadata": {},
   "source": [
    "$-1 = -4B$"
   ]
  },
  {
   "cell_type": "markdown",
   "metadata": {},
   "source": [
    "$B = \\frac{1}{4}$"
   ]
  },
  {
   "cell_type": "markdown",
   "metadata": {},
   "source": [
    "$x = 3$"
   ]
  },
  {
   "cell_type": "markdown",
   "metadata": {},
   "source": [
    "$3 - 2 = A(3 - 1)(3 + 1) + \\frac{1}{4}(3 - 3)(3 + 1) + C(3 - 3)(3 - 1)$"
   ]
  },
  {
   "cell_type": "markdown",
   "metadata": {},
   "source": [
    "$1 = A(2)(4)$"
   ]
  },
  {
   "cell_type": "markdown",
   "metadata": {},
   "source": [
    "$1 = 8A$"
   ]
  },
  {
   "cell_type": "markdown",
   "metadata": {},
   "source": [
    "$A = \\frac{1}{8}$"
   ]
  },
  {
   "cell_type": "markdown",
   "metadata": {},
   "source": [
    "$x = -1$"
   ]
  },
  {
   "cell_type": "markdown",
   "metadata": {},
   "source": [
    "$-1 - 2 = A(-1 -1)(-1+1) + B(-1-3)(-1+1) + C(-1-3)(-1-1)$"
   ]
  },
  {
   "cell_type": "markdown",
   "metadata": {},
   "source": [
    "$-3 = C(-4)(-2)$"
   ]
  },
  {
   "cell_type": "markdown",
   "metadata": {},
   "source": [
    "$-3 = 8C$"
   ]
  },
  {
   "cell_type": "markdown",
   "metadata": {},
   "source": [
    "$C = -\\frac{3}{8}$"
   ]
  },
  {
   "cell_type": "markdown",
   "metadata": {},
   "source": [
    "$ \\int \\frac{x - 2}{(x - 3)(x - 1)(x + 1)} = \\frac{1}{8} \\cdot \\int \\frac{1}{(x-3)} + \\frac{1}{4} \\cdot \\int \\frac{1}{x - 1} - \\frac{3}{8} \\cdot \\int \\frac{1}{x + 1}$"
   ]
  },
  {
   "cell_type": "markdown",
   "metadata": {},
   "source": [
    "$\\int \\frac{x - 2}{(x - 3)(x - 1)(x + 1)}  = \\frac{1}{8}ln(|x - 3|) + \\frac{1}{4}ln(|x - 1|) - \\frac{3}{8}ln(|x + 1|) + C$"
   ]
  }
 ],
 "metadata": {
  "kernelspec": {
   "display_name": "Python 3",
   "language": "python",
   "name": "python3"
  },
  "language_info": {
   "codemirror_mode": {
    "name": "ipython",
    "version": 3
   },
   "file_extension": ".py",
   "mimetype": "text/x-python",
   "name": "python",
   "nbconvert_exporter": "python",
   "pygments_lexer": "ipython3",
   "version": "3.7.0"
  }
 },
 "nbformat": 4,
 "nbformat_minor": 2
}
