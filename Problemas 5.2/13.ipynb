{
 "cells": [
  {
   "cell_type": "markdown",
   "metadata": {},
   "source": [
    "<b>Calcule a integral dada</b>"
   ]
  },
  {
   "cell_type": "markdown",
   "metadata": {},
   "source": [
    "$13. \\int x^2(x^3 + 1)^{\\frac{3}{4}}dx$"
   ]
  },
  {
   "cell_type": "markdown",
   "metadata": {},
   "source": [
    "$u = x^3 + 1$"
   ]
  },
  {
   "cell_type": "markdown",
   "metadata": {},
   "source": [
    "$du = 3x^2 dx$"
   ]
  },
  {
   "cell_type": "markdown",
   "metadata": {},
   "source": [
    "$\\frac{du}{3} = x^2dx$"
   ]
  },
  {
   "cell_type": "markdown",
   "metadata": {},
   "source": [
    "<b>Aplicando as substituições</b>"
   ]
  },
  {
   "cell_type": "markdown",
   "metadata": {},
   "source": [
    "$\\int x^2(x^3 + 1)^{\\frac{3}{4}}dx \\rightarrow \\frac{1}{3} \\cdot \\int u^{\\frac{3}{4}} du$"
   ]
  },
  {
   "cell_type": "markdown",
   "metadata": {},
   "source": [
    "<b>Integrando $\\frac{1}{3} \\cdot \\int u^{\\frac{3}{4}}du$</b>"
   ]
  },
  {
   "cell_type": "markdown",
   "metadata": {},
   "source": [
    "$\\frac{1}{3} \\cdot \\int u^{\\frac{3}{4}} du = \\frac{1}{3} \\cdot \\frac{u^{\\frac{3}{4}  + 1}}{\\frac{3}{4} + 1} + C$"
   ]
  },
  {
   "cell_type": "markdown",
   "metadata": {},
   "source": [
    "$\\frac{1}{3} \\cdot \\int u^{\\frac{3}{4}} du = \\frac{1}{3} \\cdot \\frac{u^{\\frac{7}{4}}}{\\frac{7}{4}} + C$"
   ]
  },
  {
   "cell_type": "markdown",
   "metadata": {},
   "source": [
    "$\\frac{1}{3} \\cdot \\int u^{\\frac{3}{4}} du = \\frac{4}{3} \\cdot \\frac{u^{\\frac{7}{4}}}{7} + C$"
   ]
  },
  {
   "cell_type": "markdown",
   "metadata": {},
   "source": [
    "$\\frac{1}{3} \\cdot \\int u^{\\frac{3}{4}} du = \\frac{4}{21}\\cdot\\sqrt[4]{(x^3 + 1)^7} + C$"
   ]
  }
 ],
 "metadata": {
  "kernelspec": {
   "display_name": "Python 3",
   "language": "python",
   "name": "python3"
  },
  "language_info": {
   "codemirror_mode": {
    "name": "ipython",
    "version": 3
   },
   "file_extension": ".py",
   "mimetype": "text/x-python",
   "name": "python",
   "nbconvert_exporter": "python",
   "pygments_lexer": "ipython3",
   "version": "3.7.0"
  }
 },
 "nbformat": 4,
 "nbformat_minor": 2
}
