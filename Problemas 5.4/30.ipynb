{
 "cells": [
  {
   "cell_type": "markdown",
   "metadata": {},
   "source": [
    "$L(x) = 0.7x^2 + 0.3x$"
   ]
  },
  {
   "cell_type": "markdown",
   "metadata": {},
   "source": [
    "$2\\int_0^1 x - 0.7x^2 + 0.3x = 2(\\frac{x^2}{2} - \\frac{0.7x^3}{3} + \\frac{0.3x^2}{2}) = x^2 - \\frac{1.4x^3}{3} + 0.3x^2$"
   ]
  },
  {
   "cell_type": "markdown",
   "metadata": {},
   "source": [
    "$1^2 - \\frac{1.4(1)^3}{3} + 0.3(1)^2 = 0,83$"
   ]
  }
 ],
 "metadata": {
  "kernelspec": {
   "display_name": "Python 3",
   "language": "python",
   "name": "python3"
  },
  "language_info": {
   "codemirror_mode": {
    "name": "ipython",
    "version": 3
   },
   "file_extension": ".py",
   "mimetype": "text/x-python",
   "name": "python",
   "nbconvert_exporter": "python",
   "pygments_lexer": "ipython3",
   "version": "3.7.0"
  }
 },
 "nbformat": 4,
 "nbformat_minor": 2
}
