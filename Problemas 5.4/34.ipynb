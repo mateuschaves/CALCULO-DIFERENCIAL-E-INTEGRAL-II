{
 "cells": [
  {
   "cell_type": "markdown",
   "metadata": {},
   "source": [
    "$f(t) = -0.3t^2 + 4t + 10$"
   ]
  },
  {
   "cell_type": "markdown",
   "metadata": {},
   "source": [
    "$\\frac{1}{12 - 9} \\cdot \\int_9^{12} -0.3t^2 + 4t + 10dt$"
   ]
  },
  {
   "cell_type": "markdown",
   "metadata": {},
   "source": [
    "$\\frac{1}{3}(-\\frac{0.3t^3}{3} + \\frac{4t^2}{2} + 10t) = -\\frac{0.3t^3}{9} + \\frac{2t^2}{3} + \\frac{10t}{3}$"
   ]
  },
  {
   "cell_type": "markdown",
   "metadata": {},
   "source": [
    "$-\\frac{0.3(12)^3}{9} + \\frac{2(12)^2}{3} + \\frac{10(12)}{3} - (-\\frac{0.3(9)^3}{9} + \\frac{2(9)^2}{3} + \\frac{10(9)}{3}) = 18.7$"
   ]
  }
 ],
 "metadata": {
  "kernelspec": {
   "display_name": "Python 3",
   "language": "python",
   "name": "python3"
  },
  "language_info": {
   "codemirror_mode": {
    "name": "ipython",
    "version": 3
   },
   "file_extension": ".py",
   "mimetype": "text/x-python",
   "name": "python",
   "nbconvert_exporter": "python",
   "pygments_lexer": "ipython3",
   "version": "3.7.0"
  }
 },
 "nbformat": 4,
 "nbformat_minor": 2
}
