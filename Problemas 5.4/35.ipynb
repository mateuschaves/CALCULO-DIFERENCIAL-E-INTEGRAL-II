{
 "cells": [
  {
   "cell_type": "markdown",
   "metadata": {},
   "source": [
    "$P(t) = 0.09t^2 - 0.2t + 1.6$"
   ]
  },
  {
   "cell_type": "markdown",
   "metadata": {},
   "source": [
    "$\\frac{1}{3 - 0} \\cdot \\int_{0}^{3} 0.09t^2 - 0.2t + 1.6$"
   ]
  },
  {
   "cell_type": "markdown",
   "metadata": {},
   "source": [
    "$\\frac{1}{3 - 0} \\cdot (\\frac{0.009t^3}{3} - \\frac{0.2t^2}{2} + 1.6t)|_{0}^{3}$"
   ]
  },
  {
   "cell_type": "markdown",
   "metadata": {},
   "source": [
    "$\\frac{1}{3} \\cdot (\\frac{0.009\\cdot(3)^3}{3} - \\frac{0.2(3)^2}{2} + 1.6(3)) = 1.57$"
   ]
  },
  {
   "cell_type": "markdown",
   "metadata": {},
   "source": [
    "$R\\$ 1.57$"
   ]
  }
 ],
 "metadata": {
  "kernelspec": {
   "display_name": "Python 3",
   "language": "python",
   "name": "python3"
  },
  "language_info": {
   "codemirror_mode": {
    "name": "ipython",
    "version": 3
   },
   "file_extension": ".py",
   "mimetype": "text/x-python",
   "name": "python",
   "nbconvert_exporter": "python",
   "pygments_lexer": "ipython3",
   "version": "3.7.0"
  }
 },
 "nbformat": 4,
 "nbformat_minor": 2
}
