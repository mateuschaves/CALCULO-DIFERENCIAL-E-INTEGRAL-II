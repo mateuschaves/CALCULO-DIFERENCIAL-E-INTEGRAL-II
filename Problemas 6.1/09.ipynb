{
 "cells": [
  {
   "cell_type": "markdown",
   "metadata": {},
   "source": [
    "<b>Calcule a integral dada</b>"
   ]
  },
  {
   "cell_type": "markdown",
   "metadata": {},
   "source": [
    "$\\int x \\sqrt{x - 6}dx$"
   ]
  },
  {
   "cell_type": "markdown",
   "metadata": {},
   "source": [
    "$u = x - 6$"
   ]
  },
  {
   "cell_type": "markdown",
   "metadata": {},
   "source": [
    "$u + 6 = x$"
   ]
  },
  {
   "cell_type": "markdown",
   "metadata": {},
   "source": [
    "$du = dx$"
   ]
  },
  {
   "cell_type": "markdown",
   "metadata": {},
   "source": [
    "$\\int x\\sqrt{x - 6}dx \\rightarrow \\int (u + 6)\\sqrt{u}du$"
   ]
  },
  {
   "cell_type": "markdown",
   "metadata": {},
   "source": [
    "$\\int(u + 6)\\sqrt{u}du = \\int u\\sqrt{u}du + 6\\int \\sqrt{u}du$ "
   ]
  },
  {
   "cell_type": "markdown",
   "metadata": {},
   "source": [
    "$\\int u \\sqrt{u}du$"
   ]
  },
  {
   "cell_type": "markdown",
   "metadata": {},
   "source": [
    "$u' = \\sqrt{u}$"
   ]
  },
  {
   "cell_type": "markdown",
   "metadata": {},
   "source": [
    "$du' = \\frac{1}{2\\sqrt{u}}du$"
   ]
  },
  {
   "cell_type": "markdown",
   "metadata": {},
   "source": [
    "$dv = udu$"
   ]
  },
  {
   "cell_type": "markdown",
   "metadata": {},
   "source": [
    "$v = \\frac{u^2}{2}$"
   ]
  },
  {
   "cell_type": "markdown",
   "metadata": {},
   "source": [
    "$u'v - \\int vdu'$"
   ]
  },
  {
   "cell_type": "markdown",
   "metadata": {},
   "source": [
    "$\\frac{u^2\\sqrt{u}}{2} - \\int \\frac{u^2}{2}\\frac{1}{2\\sqrt{u}}du$"
   ]
  },
  {
   "cell_type": "markdown",
   "metadata": {},
   "source": [
    "$\\frac{u^2\\sqrt{u}}{2} - \\frac{1}{4} \\int \\frac{u^2}{\\sqrt{u}}du$"
   ]
  },
  {
   "cell_type": "markdown",
   "metadata": {},
   "source": [
    "$\\frac{u^2\\sqrt{u}}{2} - \\frac{1}{4} \\int u^{\\frac{3}{2}}du$"
   ]
  },
  {
   "cell_type": "markdown",
   "metadata": {},
   "source": [
    "$\\frac{u^2\\sqrt{u}}{2} - \\frac{1}{4} \\frac{u^{\\frac{5}{2}}}{\\frac{5}{2}}$"
   ]
  },
  {
   "cell_type": "markdown",
   "metadata": {},
   "source": [
    "$\\frac{u^2\\sqrt{u}}{2} - \\frac{u^{\\frac{5}{2}}}{10} + C $"
   ]
  },
  {
   "cell_type": "markdown",
   "metadata": {},
   "source": [
    "$6 \\int \\sqrt{u}du \\rightarrow 6 \\int u^{\\frac{1}{2}}$"
   ]
  },
  {
   "cell_type": "markdown",
   "metadata": {},
   "source": [
    "$6\\frac{u^{\\frac{3}{2}}}{\\frac{3}{2}}$"
   ]
  },
  {
   "cell_type": "markdown",
   "metadata": {},
   "source": [
    "$4u^{\\frac{3}{2}}$"
   ]
  },
  {
   "cell_type": "markdown",
   "metadata": {},
   "source": [
    "$\\int u\\sqrt{u}du + 6\\int \\sqrt{u}du  =  \\frac{u^2\\sqrt{u}}{2} - \\frac{u^{\\frac{5}{2}}}{10} + 4u^{\\frac{3}{2}} + C$"
   ]
  },
  {
   "cell_type": "markdown",
   "metadata": {},
   "source": [
    "$\\int u\\sqrt{u}du + 6\\int \\sqrt{u}du  =  \\frac{(x - 6)^2\\sqrt{(x - 6)}}{2} - \\frac{( x - 6)^{\\frac{5}{2}}}{10} + 4(x - 6)^{\\frac{3}{2}} + C$"
   ]
  }
 ],
 "metadata": {
  "kernelspec": {
   "display_name": "Python 3",
   "language": "python",
   "name": "python3"
  },
  "language_info": {
   "codemirror_mode": {
    "name": "ipython",
    "version": 3
   },
   "file_extension": ".py",
   "mimetype": "text/x-python",
   "name": "python",
   "nbconvert_exporter": "python",
   "pygments_lexer": "ipython3",
   "version": "3.7.0"
  }
 },
 "nbformat": 4,
 "nbformat_minor": 2
}
