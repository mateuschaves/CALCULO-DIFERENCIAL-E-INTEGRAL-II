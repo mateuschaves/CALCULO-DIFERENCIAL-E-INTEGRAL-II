{
 "cells": [
  {
   "cell_type": "markdown",
   "metadata": {},
   "source": [
    "<b>Calcule a integral dada</b>"
   ]
  },
  {
   "cell_type": "markdown",
   "metadata": {},
   "source": [
    "$\\int \\frac{x}{\\sqrt{2x + 2}}dx$"
   ]
  },
  {
   "cell_type": "markdown",
   "metadata": {},
   "source": [
    "<b>Tirando a constante da integral</b>"
   ]
  },
  {
   "cell_type": "markdown",
   "metadata": {},
   "source": [
    "$\\int \\frac{x}{\\sqrt{2x + 2}}dx =  \\frac{1}{\\sqrt{2}} \\cdot \\int \\frac{x}{\\sqrt{x + 1}}dx$"
   ]
  },
  {
   "cell_type": "markdown",
   "metadata": {},
   "source": [
    "<b>Substituindo $u = x + 1$</b>"
   ]
  },
  {
   "cell_type": "markdown",
   "metadata": {},
   "source": [
    "$\\int \\frac{u - 1}{\\sqrt{u}}du$"
   ]
  },
  {
   "cell_type": "markdown",
   "metadata": {},
   "source": [
    "<b>$\\int (\\sqrt{u} - \\frac{1}{\\sqrt{u}})du$</b>"
   ]
  },
  {
   "cell_type": "markdown",
   "metadata": {},
   "source": [
    "$\\int (\\sqrt{u} - \\frac{1}{\\sqrt{u}})du = \\int \\sqrt{u}du - \\int \\frac{1}{\\sqrt{u}}du$"
   ]
  },
  {
   "cell_type": "markdown",
   "metadata": {},
   "source": [
    "$\\int (\\sqrt{u} - \\frac{1}{\\sqrt{u}})du = \\frac{2u^{\\frac{3}{2}}}{3} - 2\\sqrt{u}$"
   ]
  },
  {
   "cell_type": "markdown",
   "metadata": {},
   "source": [
    "$\\int (\\sqrt{u} - \\frac{1}{\\sqrt{u}})du = \\frac{2(x+1)^{\\frac{3}{2}}}{3} - \\sqrt{2}\\sqrt{x+1} + C$"
   ]
  }
 ],
 "metadata": {
  "kernelspec": {
   "display_name": "Python 3",
   "language": "python",
   "name": "python3"
  },
  "language_info": {
   "codemirror_mode": {
    "name": "ipython",
    "version": 3
   },
   "file_extension": ".py",
   "mimetype": "text/x-python",
   "name": "python",
   "nbconvert_exporter": "python",
   "pygments_lexer": "ipython3",
   "version": "3.7.0"
  }
 },
 "nbformat": 4,
 "nbformat_minor": 2
}
