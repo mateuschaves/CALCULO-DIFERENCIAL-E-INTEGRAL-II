{
 "cells": [
  {
   "cell_type": "markdown",
   "metadata": {},
   "source": [
    "$\\int_{-1}^4 \\frac{x}{\\sqrt{x + 5}}dx$"
   ]
  },
  {
   "cell_type": "markdown",
   "metadata": {},
   "source": [
    "$u = x+ 5$"
   ]
  },
  {
   "cell_type": "markdown",
   "metadata": {},
   "source": [
    "$du = dx$"
   ]
  },
  {
   "cell_type": "markdown",
   "metadata": {},
   "source": [
    "$\\int_{-1}^4 \\frac{x}{\\sqrt{x + 5}}dx = \\int \\frac{u - 5}{\\sqrt{u}}du$"
   ]
  },
  {
   "cell_type": "markdown",
   "metadata": {},
   "source": [
    "$\\int \\sqrt{u}du - 5 \\int \\frac{1}{\\sqrt{u}}du$"
   ]
  },
  {
   "cell_type": "markdown",
   "metadata": {},
   "source": [
    "$\\int \\sqrt{u}du = \\frac{u^{\\frac{3}{2}}}{\\frac{3}{2}} = \\frac{2u^{\\frac{3}{2}}}{3}$"
   ]
  },
  {
   "cell_type": "markdown",
   "metadata": {},
   "source": [
    "$\\int \\frac{1}{\\sqrt{u}}du = \\int u^{-\\frac{1}{2}}du = \\frac{u^{\\frac{1}{2}}}{\\frac{1}{2}} = 2u^{\\frac{1}{2}}$"
   ]
  },
  {
   "cell_type": "markdown",
   "metadata": {},
   "source": [
    "$\\int \\frac{x}{\\sqrt{x + 5}}dx = \\frac{2u^{\\frac{3}{2}}}{3} - 10u^{\\frac{1}{2}}$"
   ]
  },
  {
   "cell_type": "markdown",
   "metadata": {},
   "source": [
    "$\\int \\frac{x}{\\sqrt{x + 5}}dx = \\frac{2(x + 5)^{\\frac{3}{2}}}{3} - 10(x + 5)^{\\frac{1}{2}}$"
   ]
  }
 ],
 "metadata": {
  "kernelspec": {
   "display_name": "Python 3",
   "language": "python",
   "name": "python3"
  },
  "language_info": {
   "codemirror_mode": {
    "name": "ipython",
    "version": 3
   },
   "file_extension": ".py",
   "mimetype": "text/x-python",
   "name": "python",
   "nbconvert_exporter": "python",
   "pygments_lexer": "ipython3",
   "version": "3.7.0"
  }
 },
 "nbformat": 4,
 "nbformat_minor": 2
}
