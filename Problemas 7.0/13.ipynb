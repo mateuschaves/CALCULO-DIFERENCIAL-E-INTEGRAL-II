{
 "cells": [
  {
   "cell_type": "markdown",
   "metadata": {},
   "source": [
    "$\\int sen^4(x)cos^2(x)dx$"
   ]
  },
  {
   "cell_type": "markdown",
   "metadata": {},
   "source": [
    "$\\int sen^4(x)(1 - sen^2(x))dx = \\int (sen^4(x) - sen^6(x))dx = \\int (sen^2(x))^2dx - \\int (sen^2(x))^3dx$"
   ]
  },
  {
   "cell_type": "markdown",
   "metadata": {},
   "source": [
    "$\\int (sen^2(x))^2dx = \\int (\\frac{1 - cos(2x)}{2})^2 = \\frac{1}{4} \\int (1 - cos(2x))^2dx$"
   ]
  },
  {
   "cell_type": "markdown",
   "metadata": {},
   "source": [
    "$\\frac{1}{4} \\int (1 - cos(2x))^2dx = \\frac{1}{4}\\int (1 - 2cos(2x) + cos^2(2x))dx$"
   ]
  },
  {
   "cell_type": "markdown",
   "metadata": {},
   "source": [
    "$\\frac{1}{4} \\int 1dx = \\frac{x}{4}$"
   ]
  },
  {
   "cell_type": "markdown",
   "metadata": {},
   "source": [
    "$\\frac{1}{4} \\int 2cos(2x)$"
   ]
  },
  {
   "cell_type": "markdown",
   "metadata": {},
   "source": [
    "$u = 2x$"
   ]
  },
  {
   "cell_type": "markdown",
   "metadata": {},
   "source": [
    "$dx = \\frac{du}{2}$"
   ]
  },
  {
   "cell_type": "markdown",
   "metadata": {},
   "source": [
    "$\\frac{1}{4} \\int 2cos(2x) = \\frac{1}{4} \\cdot 2 \\cdot \\frac{1}{2} \\cdot \\int cos(u)du$"
   ]
  },
  {
   "cell_type": "markdown",
   "metadata": {},
   "source": [
    "$\\frac{1}{4} \\int cos(u)du = \\frac{sen(u)}{4} = \\frac{sen(2x)}{4}$"
   ]
  },
  {
   "cell_type": "markdown",
   "metadata": {},
   "source": [
    "$\\frac{1}{4} \\int cos^2(2x)dx$"
   ]
  },
  {
   "cell_type": "markdown",
   "metadata": {},
   "source": [
    "$u = 2x$"
   ]
  },
  {
   "cell_type": "markdown",
   "metadata": {},
   "source": [
    "$dx = \\frac{du}{2}$"
   ]
  },
  {
   "cell_type": "markdown",
   "metadata": {},
   "source": [
    "$\\frac{1}{4} \\cdot \\frac{1}{2} \\cdot \\int cos^2(u)dx = \\frac{1}{8} \\int \\frac{1 + cos(2u)}{2} = \\frac{1}{8} \\cdot \\frac{1}{2} \\cdot \\int (1 + cos(2u))$"
   ]
  },
  {
   "cell_type": "markdown",
   "metadata": {},
   "source": [
    "$\\frac{1}{16}\\int 1du = \\frac{u}{16}$"
   ]
  },
  {
   "cell_type": "markdown",
   "metadata": {},
   "source": [
    "$\\frac{1}{16}\\int 1du = \\frac{x}{8}$"
   ]
  },
  {
   "cell_type": "markdown",
   "metadata": {},
   "source": [
    "$\\frac{1}{16}\\int cos(2u)du$"
   ]
  },
  {
   "cell_type": "markdown",
   "metadata": {},
   "source": [
    "$a = 2u$"
   ]
  },
  {
   "cell_type": "markdown",
   "metadata": {},
   "source": [
    "$du = \\frac{da}{2}$"
   ]
  },
  {
   "cell_type": "markdown",
   "metadata": {},
   "source": [
    "$\\frac{1}{16} \\cdot \\frac{1}{2} \\cdot \\int cos(a)da = \\frac{1}{32} sen(a) = \\frac{1}{32}sen(4x)$"
   ]
  },
  {
   "cell_type": "markdown",
   "metadata": {},
   "source": [
    "$\\frac{1}{4} \\int cos^2(2x)dx = \\frac{x}{8} + \\frac{sen(4x)}{32}$"
   ]
  },
  {
   "cell_type": "markdown",
   "metadata": {},
   "source": [
    "$\\int (sen^2(x))^2dx  = \\frac{x}{4}  - \\frac{sen(2x)}{4} + \\frac{x}{8} + \\frac{sen(4x)}{32}$"
   ]
  },
  {
   "cell_type": "markdown",
   "metadata": {},
   "source": [
    "$\\int (sen^2(x))^3dx  = \\int (\\frac{1 - cos(2x)}{2})^3 = \\frac{1}{8} \\int (1 - cos(2x))^3dx$"
   ]
  },
  {
   "cell_type": "markdown",
   "metadata": {},
   "source": [
    "$(1 - cos(2x))^3 = (1 - cos(2x))^2(1 - cos(2x))$"
   ]
  },
  {
   "cell_type": "markdown",
   "metadata": {},
   "source": [
    "$(1 - cos(2x))^2 = (1 - 2cos(2x) + cos^2(2x))$"
   ]
  },
  {
   "cell_type": "markdown",
   "metadata": {},
   "source": [
    "$(1 - cos(2x))^3 = (1 - 2cos(2x) + cos^2(2x)(1 - cos(2x))$"
   ]
  },
  {
   "cell_type": "markdown",
   "metadata": {},
   "source": [
    "$(1 - cos(2x))^3 = (1 -cos(2x) - 2cos(2x) +  2cos^2(2x) + cos^2(2x) - cos(2x)cos^2(2x))$"
   ]
  },
  {
   "cell_type": "markdown",
   "metadata": {},
   "source": [
    "$(1 - cos(2x))^3 = (1 - 3cos(2x) +  3cos^2(2x) - cos^3(2x))$"
   ]
  },
  {
   "cell_type": "markdown",
   "metadata": {},
   "source": [
    "$\\frac{1}{8} \\int (1 - cos(2x))^3dx = \\frac{1}{8}\\int (1 - 3cos(2x) +  3cos^2(2x) - cos^3(2x))dx$"
   ]
  },
  {
   "cell_type": "markdown",
   "metadata": {},
   "source": [
    "$\\frac{1}{8}\\int 1dx = \\frac{x}{8}$"
   ]
  },
  {
   "cell_type": "markdown",
   "metadata": {},
   "source": [
    "$\\frac{1}{8}\\cdot 3 \\cdot \\int cos (2x)dx $"
   ]
  },
  {
   "cell_type": "markdown",
   "metadata": {},
   "source": [
    "$u = 2x$"
   ]
  },
  {
   "cell_type": "markdown",
   "metadata": {},
   "source": [
    "$dx = \\frac{du}{2}$"
   ]
  },
  {
   "cell_type": "markdown",
   "metadata": {},
   "source": [
    "$\\frac{3}{16} \\int cos(u)du = \\frac{3sen(u)}{16} = \\frac{3sen(2x)}{16}$"
   ]
  },
  {
   "cell_type": "markdown",
   "metadata": {},
   "source": [
    "$\\int 3cos^2(2x)dx$"
   ]
  },
  {
   "cell_type": "markdown",
   "metadata": {},
   "source": [
    "$u = 2x$"
   ]
  },
  {
   "cell_type": "markdown",
   "metadata": {},
   "source": [
    "$dx = \\frac{du}{2}$"
   ]
  },
  {
   "cell_type": "markdown",
   "metadata": {},
   "source": [
    "$\\frac{1}{2} \\cdot 3 \\cdot  \\int cos^2(u)du  = \\frac{3}{2} \\int \\frac{(1 + cos(2u)}{2}du = \\frac{3}{4} \\int (1 + cos(2u))du$"
   ]
  },
  {
   "cell_type": "markdown",
   "metadata": {},
   "source": [
    "$\\frac{3}{4} \\int 1du = \\frac{3u}{4} = \\frac{3x}{2}$"
   ]
  },
  {
   "cell_type": "markdown",
   "metadata": {},
   "source": [
    "$\\frac{3}{4}\\int cos(2u)du$"
   ]
  },
  {
   "cell_type": "markdown",
   "metadata": {},
   "source": [
    "$a = 2u$"
   ]
  },
  {
   "cell_type": "markdown",
   "metadata": {},
   "source": [
    "$du = \\frac{da}{2}$"
   ]
  },
  {
   "cell_type": "markdown",
   "metadata": {},
   "source": [
    "$\\frac{3}{4} \\cdot \\frac{1}{2} \\cdot \\int cos(a)da = \\frac{3}{8}sen(a) = \\frac{3}{8}sen(4x)$"
   ]
  },
  {
   "cell_type": "markdown",
   "metadata": {},
   "source": [
    "$\\frac{1}{8}\\int 3cos^2(2x)dx = \\frac{3x}{16} + \\frac{3}{64}sen(4x)$"
   ]
  },
  {
   "cell_type": "markdown",
   "metadata": {},
   "source": [
    "$-\\int 3cos^2(2x)dx = -\\frac{3x}{2} - \\frac{3}{8}sen(4x)$"
   ]
  },
  {
   "cell_type": "markdown",
   "metadata": {},
   "source": [
    "$\\frac{1}{8}\\int cos^3(2x)dx$"
   ]
  },
  {
   "cell_type": "markdown",
   "metadata": {},
   "source": [
    "$u = 2x$"
   ]
  },
  {
   "cell_type": "markdown",
   "metadata": {},
   "source": [
    "$dx = \\frac{du}{2}$"
   ]
  },
  {
   "cell_type": "markdown",
   "metadata": {},
   "source": [
    "$\\frac{1}{2}\\int cos^3(u)du = \\frac{1}{2}\\int cos(u)(1 - sen^2(u))du$"
   ]
  },
  {
   "cell_type": "markdown",
   "metadata": {},
   "source": [
    "$a = sen(u)$"
   ]
  },
  {
   "cell_type": "markdown",
   "metadata": {},
   "source": [
    "$da = cos(u)du$"
   ]
  },
  {
   "cell_type": "markdown",
   "metadata": {},
   "source": [
    "$\\frac{1}{2}\\int 1 - a^2da = \\frac{a}{2} - \\frac{a^3}{6} + C$"
   ]
  },
  {
   "cell_type": "markdown",
   "metadata": {},
   "source": [
    "$\\frac{1}{2}\\int 1 - a^2da = \\frac{sen(u)}{2} - \\frac{sen^3(u)}{6} + C$"
   ]
  },
  {
   "cell_type": "markdown",
   "metadata": {},
   "source": [
    "$\\frac{1}{8}\\int cos^3(2x)dx= \\frac{sen(2x)}{16} - \\frac{sen^3(2x)}{48} + C$"
   ]
  },
  {
   "cell_type": "markdown",
   "metadata": {},
   "source": [
    "$-\\frac{1}{8}\\int cos^3(2x)dx= -\\frac{sen(2x)}{16} + \\frac{sen^3(2x)}{48} + C$"
   ]
  },
  {
   "cell_type": "markdown",
   "metadata": {},
   "source": [
    "$\\int sen^6(x) = \\frac{x}{8} - \\frac{3sen(2x)}{16} + \\frac{3x}{8} + \\frac{3}{64}sen(4x) - \\frac{sen(2x)}{16} + \\frac{sen^3(2x)}{48} + C$"
   ]
  },
  {
   "cell_type": "markdown",
   "metadata": {},
   "source": [
    "$\\int sen^4(x)cos^2(x)dx = \\frac{x}{4}  - \\frac{sen(2x)}{4} + \\frac{x}{8} + \\frac{sen(4x)}{32} - (\\frac{x}{8} + \\frac{3sen(2x)}{16} + \\frac{3x}{2} + \\frac{3}{8}sen(4x) + \\frac{sen(2x)}{2} - \\frac{sen^3(2x)}{6})$"
   ]
  },
  {
   "cell_type": "markdown",
   "metadata": {},
   "source": [
    "$\\int sen^4(x)cos^2(x)dx = \\frac{x}{4}  - \\frac{sen(2x)}{4} + \\frac{x}{8} + \\frac{sen(4x)}{32} - \\frac{x}{8} - \\frac{3sen(2x)}{16} - \\frac{3x}{2} - \\frac{3}{8}sen(4x) - \\frac{sen(2x)}{2} + \\frac{sen^3(2x)}{6}$"
   ]
  }
 ],
 "metadata": {
  "kernelspec": {
   "display_name": "Python 3",
   "language": "python",
   "name": "python3"
  },
  "language_info": {
   "codemirror_mode": {
    "name": "ipython",
    "version": 3
   },
   "file_extension": ".py",
   "mimetype": "text/x-python",
   "name": "python",
   "nbconvert_exporter": "python",
   "pygments_lexer": "ipython3",
   "version": "3.7.0"
  }
 },
 "nbformat": 4,
 "nbformat_minor": 2
}
