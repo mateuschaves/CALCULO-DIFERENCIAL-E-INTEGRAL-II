{
 "cells": [
  {
   "cell_type": "markdown",
   "metadata": {},
   "source": [
    "$\\int sen^3(x)\\sqrt{cos(x)}dx = \\int sen(x)(1 - cos^2(x))cos^{\\frac{1}{2}}(x)dx$"
   ]
  },
  {
   "cell_type": "markdown",
   "metadata": {},
   "source": [
    "$\\int sen(x)(cos^{\\frac{1}{2}}(x) - cos^{\\frac{5}{2}}(x)dx)$"
   ]
  },
  {
   "cell_type": "markdown",
   "metadata": {},
   "source": [
    "$u = cos(x)$"
   ]
  },
  {
   "cell_type": "markdown",
   "metadata": {},
   "source": [
    "$du = -sen(x)$"
   ]
  },
  {
   "cell_type": "markdown",
   "metadata": {},
   "source": [
    "$\\int sen(x)(cos^{\\frac{1}{2}}(x) - cos^{\\frac{5}{2}}(x)dx) \\rightarrow - \\int ( u^{\\frac{1}{2}} - u^{\\frac{5}{2}})du $"
   ]
  },
  {
   "cell_type": "markdown",
   "metadata": {},
   "source": [
    "$-\\int ( u^{\\frac{1}{2}} - u^{\\frac{5}{2}})du = -\\int u^{\\frac{1}{2}}du + \\int u^{\\frac{5}{2}}du = -\\frac{u^{\\frac{3}{2}}}{\\frac{3}{2}} + \\frac{u^{\\frac{7}{2}}}{\\frac{7}{2}} + C = \\frac{2cos^{\\frac{7}{2}}(x)}{7}-\\frac{2cos^{\\frac{3}{2}}(x)}{3} + C$"
   ]
  }
 ],
 "metadata": {
  "kernelspec": {
   "display_name": "Python 3",
   "language": "python",
   "name": "python3"
  },
  "language_info": {
   "codemirror_mode": {
    "name": "ipython",
    "version": 3
   },
   "file_extension": ".py",
   "mimetype": "text/x-python",
   "name": "python",
   "nbconvert_exporter": "python",
   "pygments_lexer": "ipython3",
   "version": "3.7.0"
  }
 },
 "nbformat": 4,
 "nbformat_minor": 2
}
