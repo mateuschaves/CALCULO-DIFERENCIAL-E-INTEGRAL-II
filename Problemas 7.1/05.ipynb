{
 "cells": [
  {
   "cell_type": "markdown",
   "metadata": {},
   "source": [
    "$\\int cos^5(x)sen^4(x)dx$"
   ]
  },
  {
   "cell_type": "markdown",
   "metadata": {},
   "source": [
    "$\\int cos^5(x)sen^4(x)dx = \\int (cos^2(x))^2cos(x)sen^4(x)dx$"
   ]
  },
  {
   "cell_type": "markdown",
   "metadata": {},
   "source": [
    "$\\int (cos^2(x))^2cos(x)sen^4(x)dx = \\int (1 - sen^2(x))^2cos(x)sen^4(x)dx$"
   ]
  },
  {
   "cell_type": "markdown",
   "metadata": {},
   "source": [
    "$u = sen(x)$"
   ]
  },
  {
   "cell_type": "markdown",
   "metadata": {},
   "source": [
    "$du = cos(x)dx$"
   ]
  },
  {
   "cell_type": "markdown",
   "metadata": {},
   "source": [
    "$\\int (1 - sen^2(x))^2cos(x)sen^4(x)dx = \\int (1 - u^2)^2u^4du$"
   ]
  },
  {
   "cell_type": "markdown",
   "metadata": {},
   "source": [
    "$\\int (1 - u^2)^2u^4du = \\int (1 -2u^2 + u^4)u^4 du$"
   ]
  },
  {
   "cell_type": "markdown",
   "metadata": {},
   "source": [
    "$\\int (1 -2u^2 + u^4)u^4 du = \\int u^4 - 2u^6 + u^8$"
   ]
  },
  {
   "cell_type": "markdown",
   "metadata": {},
   "source": [
    "$\\int u^4 - 2u^6 + u^8 = \\frac{u^5}{5} - 2\\frac{u^7}{7} + \\frac{u^9}{9} + C$"
   ]
  },
  {
   "cell_type": "markdown",
   "metadata": {},
   "source": [
    "$\\int u^4 - 2u^6 + u^8 = \\frac{sen^5(x)}{5} - 2\\frac{sen^7(x)}{7} + \\frac{sen^9(x)}{9} + C$"
   ]
  }
 ],
 "metadata": {
  "kernelspec": {
   "display_name": "Python 3",
   "language": "python",
   "name": "python3"
  },
  "language_info": {
   "codemirror_mode": {
    "name": "ipython",
    "version": 3
   },
   "file_extension": ".py",
   "mimetype": "text/x-python",
   "name": "python",
   "nbconvert_exporter": "python",
   "pygments_lexer": "ipython3",
   "version": "3.7.0"
  }
 },
 "nbformat": 4,
 "nbformat_minor": 2
}
