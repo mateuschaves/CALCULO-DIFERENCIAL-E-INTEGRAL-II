{
 "cells": [
  {
   "cell_type": "markdown",
   "metadata": {},
   "source": [
    "<b>Uma fábrica produz $x$ unidades do produto $A$ e $y$ unidades do produto $B$. O preço do produto $A$ é $p(x) = 100 - x$ reais e o do produto $B$ é $q(y) = 100 - y$ reais. A função de custo conjunto dos produtos é $C(x, y) = x^2 + xy + y^2$. Quais devem ser os valores de $x$ e $y$ para que o lucro seja máximo ?</b>"
   ]
  },
  {
   "cell_type": "markdown",
   "metadata": {},
   "source": [
    "<b>Função que representa o preço do produto $A$</b>"
   ]
  },
  {
   "cell_type": "markdown",
   "metadata": {},
   "source": [
    "$p(x) = 100 -x$"
   ]
  },
  {
   "cell_type": "markdown",
   "metadata": {},
   "source": [
    "<b>Função que representa o preço do produto $B$</b>"
   ]
  },
  {
   "cell_type": "markdown",
   "metadata": {},
   "source": [
    "$q(y) = 100 - y$"
   ]
  },
  {
   "cell_type": "markdown",
   "metadata": {},
   "source": [
    "<b>Função que representa o custo dos dois produtos</b>"
   ]
  },
  {
   "cell_type": "markdown",
   "metadata": {},
   "source": [
    "$C(x, y) = x^2 + xy + y^2$"
   ]
  },
  {
   "cell_type": "markdown",
   "metadata": {},
   "source": [
    "<b>Agora precisamos entender que uma função de lucro é dada pela seguinte regra:</b>"
   ]
  },
  {
   "cell_type": "markdown",
   "metadata": {},
   "source": [
    "$L(x) = R(x) - C(x)$"
   ]
  },
  {
   "cell_type": "markdown",
   "metadata": {},
   "source": [
    "<b>E por sua vez, a função $R(x)$ é montada pelo produto $u\\cdot q$, onde $u$ representa unidade e $q$ a quantidade. Com isso, fica fácil de achar a função receita dos dois produtos da questão.</b>"
   ]
  },
  {
   "cell_type": "markdown",
   "metadata": {},
   "source": [
    "$R_1(x) = x(100 - x)$"
   ]
  },
  {
   "cell_type": "markdown",
   "metadata": {},
   "source": [
    "$R_2(y) = y(100 - y)$"
   ]
  },
  {
   "cell_type": "markdown",
   "metadata": {},
   "source": [
    "<b>Encontrada as funções que representam a receita, podemos montar a função lucro, tendo em vista que já foi fornecida a função custo</b>"
   ]
  },
  {
   "cell_type": "markdown",
   "metadata": {},
   "source": [
    "$L(x,y) = R_1(x) + R_2(y) - C(x, y)$"
   ]
  },
  {
   "cell_type": "markdown",
   "metadata": {},
   "source": [
    "$L(x, y) = x(100 - x) + y(100 - y) - x^2 - xy - y^2$"
   ]
  },
  {
   "cell_type": "markdown",
   "metadata": {},
   "source": [
    "$L(x,y) = 100x - x^2 + 100y - y^2 - x^2 - xy - y^2$"
   ]
  },
  {
   "cell_type": "markdown",
   "metadata": {},
   "source": [
    "<b>Agora, com a equação $L(x, y)$ pronta, podemos achar o seu ponto de máximo para responder a questão.</b>"
   ]
  },
  {
   "cell_type": "markdown",
   "metadata": {},
   "source": [
    "$L(x, y) = -2x^2 - 2y^2 + 100x + 100y - xy$"
   ]
  },
  {
   "cell_type": "markdown",
   "metadata": {},
   "source": [
    "<b>Para isso, devemos derivar $L(x, y)$ em relação a $x$.</b>"
   ]
  },
  {
   "cell_type": "markdown",
   "metadata": {},
   "source": [
    "$\\frac{\\partial }{\\partial x}(-2x^2 - 2y^2 + 100x + 100y - xy) = 100 - 4x - y$"
   ]
  },
  {
   "cell_type": "markdown",
   "metadata": {},
   "source": [
    "<b>E isolar a variável $y$.</b>"
   ]
  },
  {
   "cell_type": "markdown",
   "metadata": {},
   "source": [
    "$y = 100 - 4x$"
   ]
  },
  {
   "cell_type": "markdown",
   "metadata": {},
   "source": [
    "<b>Agora devemos derivar $L(x, y)$ em relação a $y$.</b>"
   ]
  },
  {
   "cell_type": "markdown",
   "metadata": {},
   "source": [
    "$\\frac{\\partial }{\\partial y}(-2x^2 - 2y^2 + 100x + 100y - xy) = 100 - x - 4y$"
   ]
  },
  {
   "cell_type": "markdown",
   "metadata": {},
   "source": [
    "<b>E aqui podemos substituir $y$ por $100 - 4x$ que foi encontrada na derivada em relação a $x$.</b>"
   ]
  },
  {
   "cell_type": "markdown",
   "metadata": {},
   "source": [
    "$100 - x - 4(100 - 4x)$"
   ]
  },
  {
   "cell_type": "markdown",
   "metadata": {},
   "source": [
    "$100 - x - 400 + 16x = 0$"
   ]
  },
  {
   "cell_type": "markdown",
   "metadata": {},
   "source": [
    "$15x - 300 = 0$"
   ]
  },
  {
   "cell_type": "markdown",
   "metadata": {},
   "source": [
    "<b>Isolando $x$ na equação resultante, chegamos ao seguinte resultado:</b>"
   ]
  },
  {
   "cell_type": "markdown",
   "metadata": {},
   "source": [
    "$x = \\frac{300}{15} = 20$"
   ]
  },
  {
   "cell_type": "markdown",
   "metadata": {},
   "source": [
    "<b>Agora é possível encontrar o valor de $y$ através da seguinte relação encontrada $y = 100 -4x$.</b>"
   ]
  },
  {
   "cell_type": "markdown",
   "metadata": {},
   "source": [
    "$y = 100 - 4\\cdot 20$"
   ]
  },
  {
   "cell_type": "markdown",
   "metadata": {},
   "source": [
    "$y = 100 - 80 = 20$"
   ]
  },
  {
   "cell_type": "markdown",
   "metadata": {},
   "source": [
    "<b>Encontrado os valores de $x$ e $y$, temos os pontos críticos da equação $L(x, y)$.</b>"
   ]
  },
  {
   "cell_type": "markdown",
   "metadata": {},
   "source": [
    "$P(20, 20)$"
   ]
  },
  {
   "cell_type": "markdown",
   "metadata": {},
   "source": [
    "<b>Para realizar o teste do ponto crítico, devemos encontrar as seguintes derivadas $\\frac{\\partial}{\\partial x \\partial x}$, $\\frac{\\partial}{\\partial x \\partial y}$, $\\frac{\\partial}{\\partial y \\partial y}$.</b>"
   ]
  },
  {
   "cell_type": "markdown",
   "metadata": {},
   "source": [
    "$\\frac{\\partial }{\\partial x \\partial x}(-2x^2 - 2y^2 + 100x + 100y - xy) = -4$"
   ]
  },
  {
   "cell_type": "markdown",
   "metadata": {},
   "source": [
    "$\\frac{\\partial }{\\partial y \\partial y}(-2x^2 - 2y^2 + 100x + 100y - xy) = -4$"
   ]
  },
  {
   "cell_type": "markdown",
   "metadata": {},
   "source": [
    "$\\frac{\\partial }{\\partial x \\partial y}(-2x^2 - 2y^2 + 100x + 100y - xy) = -1$"
   ]
  },
  {
   "cell_type": "markdown",
   "metadata": {},
   "source": [
    "<b>Com os valores dessas derivadas, é possível achar agora a derivada total que é dada por:</b>"
   ]
  },
  {
   "cell_type": "markdown",
   "metadata": {},
   "source": [
    "$d(x, y) = \\frac{\\partial}{\\partial x \\partial x} \\cdot \\frac{\\partial}{\\partial y \\partial y} - (\\frac{\\partial}{\\partial x \\partial y})^2$"
   ]
  },
  {
   "cell_type": "markdown",
   "metadata": {},
   "source": [
    "<b>Substituindo com os respectivos valores das derivadas.</b>"
   ]
  },
  {
   "cell_type": "markdown",
   "metadata": {},
   "source": [
    "$d(x, y) = (-4) \\cdot (-4) - (-1)^2$"
   ]
  },
  {
   "cell_type": "markdown",
   "metadata": {},
   "source": [
    "<b>O valor encontrado é uma constante, logo pra qualquer par ordenado $(x, y)$ ela assume o mesmo valor $15$</b>"
   ]
  },
  {
   "cell_type": "markdown",
   "metadata": {},
   "source": [
    "$d(20, 20) = 15$"
   ]
  },
  {
   "cell_type": "markdown",
   "metadata": {},
   "source": [
    "<b>Terminando o teste, substituimos o ponto crítico na equação da derivada $\\frac{\\partial}{\\partial x \\partial x}$</b>"
   ]
  },
  {
   "cell_type": "markdown",
   "metadata": {},
   "source": [
    "$f_{xx}(20, 20) = -4$"
   ]
  },
  {
   "cell_type": "markdown",
   "metadata": {},
   "source": [
    "<b>Como $d(20, 20) = 15 > 0$ e $f_{xx}(20, 20) = -4 < 0$</b>"
   ]
  },
  {
   "cell_type": "markdown",
   "metadata": {},
   "source": [
    "<b>Concluimos que o ponto $p(20, 20)$ é ponto de máximo relativo.</b>"
   ]
  }
 ],
 "metadata": {
  "kernelspec": {
   "display_name": "Python 3",
   "language": "python",
   "name": "python3"
  },
  "language_info": {
   "codemirror_mode": {
    "name": "ipython",
    "version": 3
   },
   "file_extension": ".py",
   "mimetype": "text/x-python",
   "name": "python",
   "nbconvert_exporter": "python",
   "pygments_lexer": "ipython3",
   "version": "3.7.0"
  }
 },
 "nbformat": 4,
 "nbformat_minor": 2
}
