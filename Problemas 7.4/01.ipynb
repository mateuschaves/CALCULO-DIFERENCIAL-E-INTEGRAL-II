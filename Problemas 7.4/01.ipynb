{
 "cells": [
  {
   "cell_type": "markdown",
   "metadata": {},
   "source": [
    "$\\int \\frac{3}{(2x + 3)(x - 1)}dx$"
   ]
  },
  {
   "cell_type": "markdown",
   "metadata": {},
   "source": [
    "$3\\int \\frac{1}{(2x + 3)(x - 1)}dx$"
   ]
  },
  {
   "cell_type": "markdown",
   "metadata": {},
   "source": [
    "$3\\int \\frac{1}{(2x+3)(x-1)}dx = 3 \\cdot [ \\int \\frac{A}{2x+3}dx + \\int \\frac{B}{x-1}dx]$"
   ]
  },
  {
   "cell_type": "markdown",
   "metadata": {},
   "source": [
    "$\\frac{1}{(2x+3)(x-1)} = \\frac{A}{2x+3} + \\frac{B}{x-1}$"
   ]
  },
  {
   "cell_type": "markdown",
   "metadata": {},
   "source": [
    "$1 = A(x-1) + B(2x + 3)$"
   ]
  },
  {
   "cell_type": "markdown",
   "metadata": {},
   "source": [
    "$x = 1$"
   ]
  },
  {
   "cell_type": "markdown",
   "metadata": {},
   "source": [
    "$1 = A(1 - 1) + B(2\\cdot 1 + 3)$"
   ]
  },
  {
   "cell_type": "markdown",
   "metadata": {},
   "source": [
    "$1 = 5B$"
   ]
  },
  {
   "cell_type": "markdown",
   "metadata": {},
   "source": [
    "$B = \\frac{1}{5}$"
   ]
  },
  {
   "cell_type": "markdown",
   "metadata": {},
   "source": [
    "$x = 0$"
   ]
  },
  {
   "cell_type": "markdown",
   "metadata": {},
   "source": [
    "$1 = A(0 - 1) + \\frac{1}{5}(2\\cdot 0 + 3)$"
   ]
  },
  {
   "cell_type": "markdown",
   "metadata": {},
   "source": [
    "$1 = -A + \\frac{3}{5}$"
   ]
  },
  {
   "cell_type": "markdown",
   "metadata": {},
   "source": [
    "$-A = 1 - \\frac{3}{5}$"
   ]
  },
  {
   "cell_type": "markdown",
   "metadata": {},
   "source": [
    "$A = -\\frac{2}{5}$"
   ]
  },
  {
   "cell_type": "markdown",
   "metadata": {},
   "source": [
    "$3\\int \\frac{1}{(2x+3)(x-1)}dx = 3 \\cdot [ \\int \\frac{-\\frac{2}{5}}{2x+3}dx + \\int \\frac{\\frac{1}{5\n",
    "}}{x-1}dx]$"
   ]
  },
  {
   "cell_type": "markdown",
   "metadata": {},
   "source": [
    "$3\\int \\frac{1}{(2x+3)(x-1)}dx = 3 \\cdot [ -\\frac{2}{5}\\cdot\\int \\frac{1}{2x+3}dx + \\frac{1}{5}\\cdot\\int \\frac{1}{x-1}dx]$"
   ]
  },
  {
   "cell_type": "markdown",
   "metadata": {},
   "source": [
    "$3\\int \\frac{1}{(2x+3)(x-1)}dx = 3[ -\\frac{1}{5}ln(|2x+3|) + \\frac{1}{5}ln(|x-1|)]$"
   ]
  },
  {
   "cell_type": "markdown",
   "metadata": {},
   "source": [
    "$3\\int \\frac{1}{(2x+3)(x-1)}dx = -\\frac{3}{5}ln(|2x + 3|) + \\frac{3}{5}ln(|x - 1|) + C$"
   ]
  },
  {
   "cell_type": "markdown",
   "metadata": {},
   "source": [
    "$3\\int \\frac{1}{(2x+3)(x-1)}dx = \\frac{3}{5}(-ln(|2x + 3|) + ln(|x - 1|)) + C$"
   ]
  }
 ],
 "metadata": {
  "kernelspec": {
   "display_name": "Python 3",
   "language": "python",
   "name": "python3"
  },
  "language_info": {
   "codemirror_mode": {
    "name": "ipython",
    "version": 3
   },
   "file_extension": ".py",
   "mimetype": "text/x-python",
   "name": "python",
   "nbconvert_exporter": "python",
   "pygments_lexer": "ipython3",
   "version": "3.7.0"
  }
 },
 "nbformat": 4,
 "nbformat_minor": 2
}
