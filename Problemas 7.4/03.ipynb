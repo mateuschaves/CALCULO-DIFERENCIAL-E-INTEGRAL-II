{
 "cells": [
  {
   "cell_type": "markdown",
   "metadata": {},
   "source": [
    "$\\int \\frac{x^2 + 9x - 12}{(3x - 1)(x + 6)^2}dx$"
   ]
  },
  {
   "cell_type": "markdown",
   "metadata": {},
   "source": [
    "$ \\frac{x^2 + 9x - 12}{(3x - 1)(x + 6)^2} = \\frac{A}{3x - 1} + \\frac{B}{x + 6} + \\frac{C}{(x+6)^2}$"
   ]
  },
  {
   "cell_type": "markdown",
   "metadata": {},
   "source": [
    "$x^2 + 9x - 12 = A(x+6)^2 + B(3x - 1)(x+6) + C(3x-1)$"
   ]
  },
  {
   "cell_type": "markdown",
   "metadata": {},
   "source": [
    "$x = -6$"
   ]
  },
  {
   "cell_type": "markdown",
   "metadata": {},
   "source": [
    "$(-6)^2 + 9(-6) - 12 = A(-6 + 6)^2 + B(3\\cdot(-6) -1)(-6 + 6) + C(3\\cdot(-6) - 1)$"
   ]
  },
  {
   "cell_type": "markdown",
   "metadata": {},
   "source": [
    "$36 - 54 - 12 = -19C$"
   ]
  },
  {
   "cell_type": "markdown",
   "metadata": {},
   "source": [
    "$-30 = -19C$"
   ]
  },
  {
   "cell_type": "markdown",
   "metadata": {},
   "source": [
    "$C = \\frac{30}{19}$"
   ]
  },
  {
   "cell_type": "markdown",
   "metadata": {},
   "source": [
    "$x = \\frac{1}{3}$"
   ]
  },
  {
   "cell_type": "markdown",
   "metadata": {},
   "source": [
    "$(\\frac{1}{3})^2 + 9\\frac{1}{3} - 12 = A(\\frac{1}{3}+6)^2 + B(3\\frac{1}{3} - 1)(\\frac{1}{3}+6) + C(3\\frac{1}{3}-1)$"
   ]
  },
  {
   "cell_type": "markdown",
   "metadata": {},
   "source": [
    "$\\frac{1}{9} + 3 - 12 = A(\\frac{1}{9} + 4 + 36)$"
   ]
  },
  {
   "cell_type": "markdown",
   "metadata": {},
   "source": [
    "$\\frac{1}{9} + 3 - 12 = \\frac{A}{9} + 4A + 36A$"
   ]
  },
  {
   "cell_type": "markdown",
   "metadata": {},
   "source": [
    "$\\frac{28}{9} - 12 = \\frac{A}{9} + 40A$"
   ]
  },
  {
   "cell_type": "markdown",
   "metadata": {},
   "source": [
    "$\\frac{28 - 108}{9} = \\frac{361A}{9}$"
   ]
  },
  {
   "cell_type": "markdown",
   "metadata": {},
   "source": [
    "$\\frac{-80}{9} = \\frac{361A}{9}$"
   ]
  },
  {
   "cell_type": "markdown",
   "metadata": {},
   "source": [
    "$A = -\\frac{80}{361}$"
   ]
  },
  {
   "cell_type": "markdown",
   "metadata": {},
   "source": [
    "$x = 0 $"
   ]
  },
  {
   "cell_type": "markdown",
   "metadata": {},
   "source": [
    "$0^2 + 9\\cdot0 - 12 = -\\frac{80}{361}(0+6)^2 + B(3\\cdot 0 - 1)( 0+6) + \\frac{30}{19}(3\\cdot0-1)$"
   ]
  },
  {
   "cell_type": "markdown",
   "metadata": {},
   "source": [
    "$-12 = -\\frac{80}{361}\\cdot 36 -6B -\\frac{30}{19}$"
   ]
  },
  {
   "cell_type": "markdown",
   "metadata": {},
   "source": [
    "$-12 = -\\frac{2880}{361} - 6B - \\frac{30}{19}$"
   ]
  },
  {
   "cell_type": "markdown",
   "metadata": {},
   "source": [
    "$\\frac{2880}{361} + \\frac{30}{19} - 12 = -6B$"
   ]
  },
  {
   "cell_type": "markdown",
   "metadata": {},
   "source": [
    "$-\\frac{882}{361} = -6B$"
   ]
  },
  {
   "cell_type": "markdown",
   "metadata": {},
   "source": [
    "$B = \\frac{882}{2166} = \\frac{147}{361}$"
   ]
  },
  {
   "cell_type": "markdown",
   "metadata": {},
   "source": [
    "$\\int \\frac{x^2 + 9x - 12}{(3x - 1)(x + 6)^2}dx = \\int \\frac{-\\frac{80}{361}}{3x - 1}dx + \\int \\frac{\\frac{147}{361}}{x + 6}dx + \\int \\frac{\\frac{30}{19}}{(x+6)^2}dx$"
   ]
  },
  {
   "cell_type": "markdown",
   "metadata": {},
   "source": [
    "$\\int \\frac{x^2 + 9x - 12}{(3x - 1)(x + 6)^2}dx = -\\frac{80}{361}\\cdot \\int \\frac{1}{3x -1} + \\frac{147}{361} \\cdot \\int \\frac{1}{x + 6} + \\frac{30}{19} \\cdot \\int \\frac{1}{(x+6)^2}$"
   ]
  },
  {
   "cell_type": "markdown",
   "metadata": {},
   "source": [
    "$\\int \\frac{x^2 + 9x - 12}{(3x - 1)(x + 6)^2}dx = -\\frac{80}{361} \\cdot \\frac{1}{3} \\cdot ln(|3x - 1|) + \\frac{147}{361} ln(|x+6|) + \\frac{30}{19} \\cdot -\\frac{1}{(x+6)}$"
   ]
  },
  {
   "cell_type": "markdown",
   "metadata": {},
   "source": [
    "$\\int \\frac{x^2 + 9x - 12}{(3x - 1)(x + 6)^2}dx = -\\frac{80}{1083}ln(|3x - 1|) + \\frac{147}{361} ln(|x+6|) - \\frac{30}{19(x+6)} + C$"
   ]
  }
 ],
 "metadata": {
  "kernelspec": {
   "display_name": "Python 3",
   "language": "python",
   "name": "python3"
  },
  "language_info": {
   "codemirror_mode": {
    "name": "ipython",
    "version": 3
   },
   "file_extension": ".py",
   "mimetype": "text/x-python",
   "name": "python",
   "nbconvert_exporter": "python",
   "pygments_lexer": "ipython3",
   "version": "3.7.0"
  }
 },
 "nbformat": 4,
 "nbformat_minor": 2
}
