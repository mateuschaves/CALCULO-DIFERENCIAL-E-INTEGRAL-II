{
 "cells": [
  {
   "cell_type": "markdown",
   "metadata": {},
   "source": [
    "$\\int \\frac{t^4 + t^2 + 1}{(t^2+1)(t^2+4)^2}$"
   ]
  },
  {
   "cell_type": "markdown",
   "metadata": {},
   "source": [
    "$\\frac{t^4 + t^2 + 1}{(t^2+1)(t^2+4)^2} = \\frac{At+B}{(t^2 + 1)} + \\frac{Ct+D}{(t^2 + 4)} + \\frac{Et+F}{(t^2 + 4)^2}$"
   ]
  },
  {
   "cell_type": "markdown",
   "metadata": {},
   "source": [
    "$t^4 + t^2 + 1 = (At+B)(t^2+4)^2 + (Ct+D)(t^2+4)(t^2+1) + (Et+F)(t^2+1)$"
   ]
  },
  {
   "cell_type": "markdown",
   "metadata": {},
   "source": [
    "$t = $"
   ]
  }
 ],
 "metadata": {
  "kernelspec": {
   "display_name": "Python 3",
   "language": "python",
   "name": "python3"
  },
  "language_info": {
   "codemirror_mode": {
    "name": "ipython",
    "version": 3
   },
   "file_extension": ".py",
   "mimetype": "text/x-python",
   "name": "python",
   "nbconvert_exporter": "python",
   "pygments_lexer": "ipython3",
   "version": "3.7.0"
  }
 },
 "nbformat": 4,
 "nbformat_minor": 2
}
