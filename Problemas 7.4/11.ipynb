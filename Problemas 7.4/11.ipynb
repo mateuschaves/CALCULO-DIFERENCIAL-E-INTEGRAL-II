{
 "cells": [
  {
   "cell_type": "markdown",
   "metadata": {},
   "source": [
    "$\\int \\frac{x^4}{(x^2 + 9)^3}dx$"
   ]
  },
  {
   "cell_type": "markdown",
   "metadata": {},
   "source": [
    "$\\frac{x^4}{(x^2 + 9)^3} = \\frac{Ax + B}{(x^2 + 9)} + \\frac{Cx + D}{(x^2 + 9)^2} + \\frac{Ex + F}{(x^2 + 9)^3} $"
   ]
  },
  {
   "cell_type": "markdown",
   "metadata": {},
   "source": [
    "$x^4  = (Ax + B)(x^2 + 9)^2 + (Cx + D)(x^2 + 9) + Ex + F$"
   ]
  },
  {
   "cell_type": "markdown",
   "metadata": {},
   "source": [
    "$x^4 = (Ax + B)(x^4 + 18x^2 + 81) + Cx^3 + 9Cx + Dx^2 + 9D + Ex + F$"
   ]
  },
  {
   "cell_type": "markdown",
   "metadata": {},
   "source": [
    "$x^4 = Ax^5 + 18Ax^3 + 81Ax + Bx^4 + 18Bx^2 + 81B + Cx^3 + 9Cx + Dx^2 + 9D + Ex+ F$"
   ]
  },
  {
   "cell_type": "markdown",
   "metadata": {},
   "source": [
    "$x^4 = Ax^5 + Bx^4 + (18A + C)x^3 + (18B + D)x^2  +  (9C + E + 81A)x + 9D + F + 81B$"
   ]
  },
  {
   "cell_type": "markdown",
   "metadata": {},
   "source": [
    "$\\begin{cases}\n",
    "A = 0 \\\\\n",
    "B = 1 \\\\\n",
    "18A + C = 0 \\\\\n",
    "18B + D = 0 \\\\\n",
    "9C + E + 81A = 0\\\\\n",
    "9D + F + 81B = 0\n",
    "\\end{cases}$"
   ]
  },
  {
   "cell_type": "markdown",
   "metadata": {},
   "source": [
    "$D = - 18$"
   ]
  },
  {
   "cell_type": "markdown",
   "metadata": {},
   "source": [
    "$C = 0$"
   ]
  },
  {
   "cell_type": "markdown",
   "metadata": {},
   "source": [
    "$E = 0$"
   ]
  },
  {
   "cell_type": "markdown",
   "metadata": {},
   "source": [
    "$-18\\cdot9 + F + 81 = 0$"
   ]
  },
  {
   "cell_type": "markdown",
   "metadata": {},
   "source": [
    "$-162  + 81 =  F = 81$"
   ]
  },
  {
   "cell_type": "markdown",
   "metadata": {},
   "source": [
    "$\\int \\frac{x^4}{(x^2 + 9)^3}dx =  \\int \\frac{1}{(x^2 + 9)}dx + \\int \\frac{-18}{(x^2 + 9)^2}dx + \\int \\frac{81}{(x^2 + 9)^3}dx$"
   ]
  },
  {
   "cell_type": "markdown",
   "metadata": {},
   "source": [
    "$\\int \\frac{1}{x^2 + 9}dx = \\frac{1}{3}arctg(\\frac{x}{3})$"
   ]
  },
  {
   "cell_type": "markdown",
   "metadata": {},
   "source": [
    "$- 18 \\int \\frac{1}{(x^2 + 9)^2}dx = -18 \\int \\frac{1}{9(1 + (\\frac{x}{9})^2)}$"
   ]
  },
  {
   "cell_type": "markdown",
   "metadata": {},
   "source": [
    "$u = \\frac{x}{9}$"
   ]
  },
  {
   "cell_type": "markdown",
   "metadata": {},
   "source": [
    "$9du = dx$"
   ]
  },
  {
   "cell_type": "markdown",
   "metadata": {},
   "source": [
    "$-18 \\cdot \\int \\frac{1}{1 + u^2}$"
   ]
  },
  {
   "cell_type": "markdown",
   "metadata": {},
   "source": [
    "$-18 \\cdot arctg(u) = -18 \\cdot arctg(\\frac{x}{9})$"
   ]
  }
 ],
 "metadata": {
  "kernelspec": {
   "display_name": "Python 3",
   "language": "python",
   "name": "python3"
  },
  "language_info": {
   "codemirror_mode": {
    "name": "ipython",
    "version": 3
   },
   "file_extension": ".py",
   "mimetype": "text/x-python",
   "name": "python",
   "nbconvert_exporter": "python",
   "pygments_lexer": "ipython3",
   "version": "3.7.0"
  }
 },
 "nbformat": 4,
 "nbformat_minor": 2
}
