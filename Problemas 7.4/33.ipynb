{
 "cells": [
  {
   "cell_type": "markdown",
   "metadata": {},
   "source": [
    "<b>Calcule a integral dada</b>"
   ]
  },
  {
   "cell_type": "markdown",
   "metadata": {},
   "source": [
    "$\\int \\frac{2x^3 - x^2 + 3x - 1}{(x^2 + 1)(x^2 + 2)}dx$"
   ]
  },
  {
   "cell_type": "markdown",
   "metadata": {},
   "source": [
    "<b>Decomposição de fração</b>"
   ]
  },
  {
   "cell_type": "markdown",
   "metadata": {},
   "source": [
    "$\\frac{2x^3 - x^2 + 3x - 1}{(x^2 + 1)(x^2 + 2)} = \\frac{x - 1}{x^2 + 2} + \\frac{x}{x^2 + 1}$"
   ]
  },
  {
   "cell_type": "markdown",
   "metadata": {},
   "source": [
    "$\\int \\frac{2x^3 - x^2 + 3x - 1}{(x^2 + 1)(x^2 + 2)}dx = \\int \\frac{x - 1}{x^2 + 2}dx + \\int \\frac{x}{x^2 + 1}dx$"
   ]
  },
  {
   "cell_type": "markdown",
   "metadata": {},
   "source": [
    "<b>Integrando $\\int \\frac{x + 1}{x^2 + 2}dx $</b>"
   ]
  },
  {
   "cell_type": "markdown",
   "metadata": {},
   "source": [
    "$\\int \\frac{x + 1}{x^2 + 2}dx = \\int \\frac{x}{x^2 + 2}dx - \\int \\frac{1}{x^2 + 2}dx$"
   ]
  },
  {
   "cell_type": "markdown",
   "metadata": {},
   "source": [
    "<b>Integrando $\\int \\frac{x}{x^2 + 2}dx$</b>"
   ]
  },
  {
   "cell_type": "markdown",
   "metadata": {},
   "source": [
    "$u = x^2 + 2$"
   ]
  },
  {
   "cell_type": "markdown",
   "metadata": {},
   "source": [
    "$du = 2xdx$"
   ]
  },
  {
   "cell_type": "markdown",
   "metadata": {},
   "source": [
    "$\\frac{du}{2} = xdx$"
   ]
  },
  {
   "cell_type": "markdown",
   "metadata": {},
   "source": [
    "$\\int \\frac{x}{x^2 + 2}dx \\rightarrow  \\frac{1}{2} \\cdot \\int \\frac{1}{u}du$"
   ]
  },
  {
   "cell_type": "markdown",
   "metadata": {},
   "source": [
    "$\\frac{1}{2} \\cdot \\int \\frac{1}{u}du = \\frac{1}{2} \\cdot ln(u)$"
   ]
  },
  {
   "cell_type": "markdown",
   "metadata": {},
   "source": [
    "$\\int \\frac{x}{x^2 + 2}dx = \\frac{1}{2} \\cdot ln(x^2 + 2)$"
   ]
  },
  {
   "cell_type": "markdown",
   "metadata": {},
   "source": [
    "<b>Integrando $\\int \\frac{1}{x^2 + 2}dx$</b>"
   ]
  },
  {
   "cell_type": "markdown",
   "metadata": {},
   "source": [
    "$u = \\frac{x}{\\sqrt{2}}$"
   ]
  },
  {
   "cell_type": "markdown",
   "metadata": {},
   "source": [
    "$dx = \\sqrt{2}du$"
   ]
  },
  {
   "cell_type": "markdown",
   "metadata": {},
   "source": [
    "$\\int \\frac{1}{x^2 + 2}dx = \\int \\frac{\\sqrt{2}}{2u^2 + 2}du$"
   ]
  },
  {
   "cell_type": "markdown",
   "metadata": {},
   "source": [
    "$\\frac{1}{\\sqrt{2}}\\int \\frac{1}{u^2 + 1}du$"
   ]
  },
  {
   "cell_type": "markdown",
   "metadata": {},
   "source": [
    "$\\frac{arctang(\\frac{x}{\\sqrt{2}})}{\\sqrt{2}}$"
   ]
  },
  {
   "cell_type": "markdown",
   "metadata": {},
   "source": [
    "<b>Integrando $\\int \\frac{x}{x^2 + 1} dx$</b>"
   ]
  },
  {
   "cell_type": "markdown",
   "metadata": {},
   "source": [
    "$u = x^2 + 1$"
   ]
  },
  {
   "cell_type": "markdown",
   "metadata": {},
   "source": [
    "$dx = \\frac{1}{2x}du$"
   ]
  },
  {
   "cell_type": "markdown",
   "metadata": {},
   "source": [
    "$\\int \\frac{x}{x^2 + 1} dx \\rightarrow \\frac{1}{2} \\int \\frac{1}{u}du $"
   ]
  },
  {
   "cell_type": "markdown",
   "metadata": {},
   "source": [
    "$\\frac{ln(x^2 + 1)}{2}$"
   ]
  },
  {
   "cell_type": "markdown",
   "metadata": {},
   "source": [
    "$\\frac{ln(x^2 + 2)}{2} + \\frac{ln(x^2 + 1)}{2} - \\frac{arctan(\\frac{x}{\\sqrt{2}})}{\\sqrt{2}} + C$"
   ]
  }
 ],
 "metadata": {
  "kernelspec": {
   "display_name": "Python 3",
   "language": "python",
   "name": "python3"
  },
  "language_info": {
   "codemirror_mode": {
    "name": "ipython",
    "version": 3
   },
   "file_extension": ".py",
   "mimetype": "text/x-python",
   "name": "python",
   "nbconvert_exporter": "python",
   "pygments_lexer": "ipython3",
   "version": "3.7.0"
  }
 },
 "nbformat": 4,
 "nbformat_minor": 2
}
