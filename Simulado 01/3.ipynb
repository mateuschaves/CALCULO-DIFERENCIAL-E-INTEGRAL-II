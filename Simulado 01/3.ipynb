{
 "cells": [
  {
   "cell_type": "markdown",
   "metadata": {},
   "source": [
    "$\\int_{\\pi/2}^{3\\pi/4} sen^4(x)cos^3(x)dx = \\int_{\\pi/2}^{3\\pi/4} sen^4(x)(1 - sen^2(x))cos(x)dx$"
   ]
  },
  {
   "cell_type": "markdown",
   "metadata": {},
   "source": [
    "$u = sen(x)$"
   ]
  },
  {
   "cell_type": "markdown",
   "metadata": {},
   "source": [
    "$du = cos(x)dx$"
   ]
  },
  {
   "cell_type": "markdown",
   "metadata": {},
   "source": [
    "$\\int_{\\pi/2}^{3\\pi/4} sen^4(x)(1 - sen^2(x))cos(x)dx = \\int_{\\pi/2}^{3\\pi/4} u^4(1 - u^2)du$"
   ]
  },
  {
   "cell_type": "markdown",
   "metadata": {},
   "source": [
    "$\\int_{\\pi/2}^{3\\pi/4} u^4(1 - u^2)du = \\int_{\\pi/2}^{3\\pi/4} u^4 -u^6 du $"
   ]
  },
  {
   "cell_type": "markdown",
   "metadata": {},
   "source": [
    "$\\int u^4 = \\frac{u^5}{5} = \\frac{sen^5(x)}{5}$"
   ]
  },
  {
   "cell_type": "markdown",
   "metadata": {},
   "source": [
    "$\\int u^6 = \\frac{u^7}{7} = \\frac{sen^7(x)}{7}$"
   ]
  },
  {
   "cell_type": "markdown",
   "metadata": {},
   "source": [
    "$\\int_{\\pi/2}^{3\\pi/4} sen^4(x)cos^3(x)dx = \\frac{sen^5(x)}{5} - \\frac{sen^7(x)}{7}$"
   ]
  },
  {
   "cell_type": "markdown",
   "metadata": {},
   "source": [
    "$\\frac{sen^5(\\frac{3\\pi}{4})}{5} - \\frac{sen^7(\\frac{3\\pi}{4})}{7} - (\\frac{sen^5(\\frac{\\pi}{2})}{5} - \\frac{sen^7(\\frac{\\pi}{2})}{7})$"
   ]
  }
 ],
 "metadata": {
  "kernelspec": {
   "display_name": "Python 3",
   "language": "python",
   "name": "python3"
  },
  "language_info": {
   "codemirror_mode": {
    "name": "ipython",
    "version": 3
   },
   "file_extension": ".py",
   "mimetype": "text/x-python",
   "name": "python",
   "nbconvert_exporter": "python",
   "pygments_lexer": "ipython3",
   "version": "3.7.0"
  }
 },
 "nbformat": 4,
 "nbformat_minor": 2
}
