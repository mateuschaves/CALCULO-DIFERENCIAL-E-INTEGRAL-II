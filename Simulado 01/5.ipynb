{
 "cells": [
  {
   "cell_type": "markdown",
   "metadata": {},
   "source": [
    "$\\int \\frac{4y^2 - 7y - 12}{y(y+2)(y-3)}dy$"
   ]
  },
  {
   "cell_type": "markdown",
   "metadata": {},
   "source": [
    "$\\frac{4y^2 - 7y - 12}{y(y+2)(y-3)} = \\frac{A}{y} + \\frac{B}{(y + 2)} + \\frac{C}{(y - 3)}$"
   ]
  },
  {
   "cell_type": "markdown",
   "metadata": {},
   "source": [
    "$4y^2 - 7y - 12 = A(y + 2)(y - 3) + By(y - 3) + Cy(y + 2)$"
   ]
  },
  {
   "cell_type": "markdown",
   "metadata": {},
   "source": [
    "$4y^2 - 7y - 12 = A(y^2 - 3y + 2y - 6) + B(y^2 - 3y) + C(y^2 + 2y)$"
   ]
  },
  {
   "cell_type": "markdown",
   "metadata": {},
   "source": [
    "$4y^2 - 7y - 12 = Ay^2 -3Ay + 2Ay -6A + By^2 - 3By + Cy^2 + 2Cy$"
   ]
  },
  {
   "cell_type": "markdown",
   "metadata": {},
   "source": [
    "$4y^2 - 7y - 12  = (A + B + C)y^2 + (-3A + 2A - 3B + 2C)y -6A$"
   ]
  },
  {
   "cell_type": "markdown",
   "metadata": {},
   "source": [
    "$\\begin{cases}\n",
    "A + B + C = 4 \\\\\n",
    "-A - 3B + 2C = -7 \\\\\n",
    "-6A = -12\n",
    "\\end{cases}$"
   ]
  },
  {
   "cell_type": "markdown",
   "metadata": {},
   "source": [
    "$A = 2$"
   ]
  },
  {
   "cell_type": "markdown",
   "metadata": {},
   "source": [
    "$-3B + 2C = -5$"
   ]
  },
  {
   "cell_type": "markdown",
   "metadata": {},
   "source": [
    "$C = \\frac{-5 + 3B}{2}$"
   ]
  },
  {
   "cell_type": "markdown",
   "metadata": {},
   "source": [
    "$2 + B + \\frac{-5 + 3B}{2} = 4$"
   ]
  },
  {
   "cell_type": "markdown",
   "metadata": {},
   "source": [
    "$B + \\frac{-5 + 3B}{2} = 2$"
   ]
  },
  {
   "cell_type": "markdown",
   "metadata": {},
   "source": [
    "$\\frac{5B - 5}{2} = 2$"
   ]
  },
  {
   "cell_type": "markdown",
   "metadata": {},
   "source": [
    "$5B - 5 = 4$"
   ]
  },
  {
   "cell_type": "markdown",
   "metadata": {},
   "source": [
    "$5B = 9$"
   ]
  },
  {
   "cell_type": "markdown",
   "metadata": {},
   "source": [
    "$B = \\frac{9}{5}$"
   ]
  },
  {
   "cell_type": "markdown",
   "metadata": {},
   "source": [
    "$2 + \\frac{9}{5} + C = 4$"
   ]
  },
  {
   "cell_type": "markdown",
   "metadata": {},
   "source": [
    "$\\frac{19}{5} + C = 4$"
   ]
  },
  {
   "cell_type": "markdown",
   "metadata": {},
   "source": [
    "$C = 4 - \\frac{19}{5}$"
   ]
  },
  {
   "cell_type": "markdown",
   "metadata": {},
   "source": [
    "$C = \\frac{1}{5}$"
   ]
  },
  {
   "cell_type": "markdown",
   "metadata": {},
   "source": [
    "$\\frac{4y^2 - 7y - 12}{y(y+2)(y-3)} = \\frac{2}{y} + \\frac{\\frac{9}{5}}{(y + 2)} + \\frac{\\frac{1}{5}}{(y - 3)}$"
   ]
  },
  {
   "cell_type": "markdown",
   "metadata": {},
   "source": [
    "$\\int \\frac{4y^2 - 7y - 12}{y(y+2)(y-3)}du = 2\\int \\frac{1}{y}dy + \\frac{9}{5}\\int\\frac{1}{(y + 2)}dy + \\frac{1}{5} \\int \\frac{1}{(y - 3)}dy$"
   ]
  },
  {
   "cell_type": "markdown",
   "metadata": {},
   "source": [
    "$\\int \\frac{4y^2 - 7y - 12}{y(y+2)(y-3)}du = 2ln(|y|) + \\frac{9}{5}ln(|y + 2|) + \\frac{1}{5}ln(y -3) + C$"
   ]
  }
 ],
 "metadata": {
  "kernelspec": {
   "display_name": "Python 3",
   "language": "python",
   "name": "python3"
  },
  "language_info": {
   "codemirror_mode": {
    "name": "ipython",
    "version": 3
   },
   "file_extension": ".py",
   "mimetype": "text/x-python",
   "name": "python",
   "nbconvert_exporter": "python",
   "pygments_lexer": "ipython3",
   "version": "3.7.0"
  }
 },
 "nbformat": 4,
 "nbformat_minor": 2
}
